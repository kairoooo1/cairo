{
 "cells": [
  {
   "cell_type": "code",
   "execution_count": 9,
   "metadata": {},
   "outputs": [],
   "source": [
    "list = [\"apple\",\"cow\",\"ant\"]\n",
    "del list\n"
   ]
  },
  {
   "cell_type": "code",
   "execution_count": null,
   "metadata": {},
   "outputs": [],
   "source": []
  },
  {
   "cell_type": "code",
   "execution_count": 11,
   "metadata": {},
   "outputs": [
    {
     "name": "stdout",
     "output_type": "stream",
     "text": [
      "4\n"
     ]
    }
   ],
   "source": [
    "tuple = (\"dog\",\"car\",\"cart\",\"cat\")\n",
    "print(len(tuple))"
   ]
  },
  {
   "cell_type": "code",
   "execution_count": 15,
   "metadata": {},
   "outputs": [
    {
     "name": "stdout",
     "output_type": "stream",
     "text": [
      "bat cat\n"
     ]
    }
   ],
   "source": [
    "a = \"bat\" \n",
    "b = \"cat\"\n",
    "c = a + \" \"  +b\n",
    "print(c)"
   ]
  },
  {
   "cell_type": "code",
   "execution_count": 18,
   "metadata": {},
   "outputs": [
    {
     "name": "stdout",
     "output_type": "stream",
     "text": [
      "{'car': 'fly', 'grade': 'plain'}\n"
     ]
    }
   ],
   "source": [
    "student = {\n",
    "    \"car\":\"ant\",\n",
    "           \"grade\":\"plain\"}\n",
    "student[\"car\"] = \"fly\"\n",
    "print(student)"
   ]
  },
  {
   "cell_type": "code",
   "execution_count": 26,
   "metadata": {},
   "outputs": [
    {
     "name": "stdout",
     "output_type": "stream",
     "text": [
      "apple\n",
      "apple\n",
      "dog\n"
     ]
    },
    {
     "ename": "",
     "evalue": "",
     "output_type": "error",
     "traceback": [
      "\u001b[1;31mThe Kernel crashed while executing code in the current cell or a previous cell. \n",
      "\u001b[1;31mPlease review the code in the cell(s) to identify a possible cause of the failure. \n",
      "\u001b[1;31mClick <a href='https://aka.ms/vscodeJupyterKernelCrash'>here</a> for more info. \n",
      "\u001b[1;31mView Jupyter <a href='command:jupyter.viewOutput'>log</a> for further details."
     ]
    }
   ],
   "source": [
    "fruits = [\"apple\", \"dog\",\"banana\"]\n",
    "for x in fruits:\n",
    "    print(x)\n",
    "    if x == \"dog\":\n",
    "        break\n",
    "    print(x)"
   ]
  },
  {
   "cell_type": "code",
   "execution_count": 22,
   "metadata": {},
   "outputs": [
    {
     "ename": "IndentationError",
     "evalue": "expected an indented block after 'if' statement on line 3 (2339369844.py, line 4)",
     "output_type": "error",
     "traceback": [
      "\u001b[1;36m  Cell \u001b[1;32mIn[22], line 4\u001b[1;36m\u001b[0m\n\u001b[1;33m    break\u001b[0m\n\u001b[1;37m    ^\u001b[0m\n\u001b[1;31mIndentationError\u001b[0m\u001b[1;31m:\u001b[0m expected an indented block after 'if' statement on line 3\n"
     ]
    }
   ],
   "source": [
    "for x in \"banana\":\n",
    "    print(x)\n",
    "    if x == \"banana\":\n",
    "    break"
   ]
  },
  {
   "cell_type": "code",
   "execution_count": 2,
   "metadata": {},
   "outputs": [
    {
     "name": "stdout",
     "output_type": "stream",
     "text": [
      "-3\n"
     ]
    }
   ],
   "source": [
    "num1 = 9\n",
    "num2 = -4\n",
    "s = num1 // num2\n",
    "print(s)"
   ]
  },
  {
   "cell_type": "code",
   "execution_count": 1,
   "metadata": {},
   "outputs": [
    {
     "name": "stdout",
     "output_type": "stream",
     "text": [
      "81\n"
     ]
    }
   ],
   "source": [
    "num1 = 3\n",
    "num2 = 4\n",
    "s = num1 ** num2\n",
    "print(s)"
   ]
  },
  {
   "cell_type": "markdown",
   "metadata": {},
   "source": [
    "def fun():\n",
    " print(\"Welcome to GFG)\n",
    "fun():"
   ]
  },
  {
   "cell_type": "code",
   "execution_count": 4,
   "metadata": {},
   "outputs": [
    {
     "name": "stdout",
     "output_type": "stream",
     "text": [
      "Welcome to GFG\n"
     ]
    }
   ],
   "source": [
    "def fun():\n",
    "    print(\"Welcome to GFG\")\n",
    "fun()"
   ]
  },
  {
   "cell_type": "code",
   "execution_count": 24,
   "metadata": {},
   "outputs": [
    {
     "name": "stdout",
     "output_type": "stream",
     "text": [
      "even\n"
     ]
    }
   ],
   "source": [
    "def evenOdd(x=10):\n",
    " # x=10 is a default parameter\n",
    " if (x % 5 == 0):\n",
    "    print(\"even\")\n",
    " else:\n",
    "  print(\"odd\")\n",
    "evenOdd()"
   ]
  },
  {
   "cell_type": "code",
   "execution_count": 22,
   "metadata": {},
   "outputs": [],
   "source": [
    "def my_function(food):\n",
    "    for x in food:\n",
    "        print(x)\n",
    "        fruits = [\"apple\",\"banana\",\"cherry\"]\n",
    "        my_function(fruits)"
   ]
  },
  {
   "cell_type": "code",
   "execution_count": 1,
   "metadata": {},
   "outputs": [
    {
     "name": "stdout",
     "output_type": "stream",
     "text": [
      "my name is jaguar\n"
     ]
    }
   ],
   "source": [
    "file1 = open(\"dsa3.txt\")\n",
    "print(file1.read())"
   ]
  },
  {
   "cell_type": "code",
   "execution_count": 5,
   "metadata": {},
   "outputs": [
    {
     "data": {
      "text/plain": [
       "13"
      ]
     },
     "execution_count": 5,
     "metadata": {},
     "output_type": "execute_result"
    }
   ],
   "source": [
    "file1 = open(\"dsa3.txt\",\"a\")\n",
    "file1.write(\"\\ndonkey kong)\")"
   ]
  },
  {
   "cell_type": "code",
   "execution_count": 6,
   "metadata": {},
   "outputs": [
    {
     "name": "stdout",
     "output_type": "stream",
     "text": [
      "my na\n"
     ]
    }
   ],
   "source": [
    "f = open(\"dsa3.txt\",\"r\")\n",
    "print(f.read(5))"
   ]
  },
  {
   "cell_type": "code",
   "execution_count": 7,
   "metadata": {},
   "outputs": [
    {
     "name": "stdout",
     "output_type": "stream",
     "text": [
      "my name is jaguar\n",
      "\n"
     ]
    }
   ],
   "source": [
    "f = open(\"dsa3.txt\",\"r\")\n",
    "print(f.readline())"
   ]
  },
  {
   "cell_type": "code",
   "execution_count": 10,
   "metadata": {},
   "outputs": [
    {
     "ename": "PermissionError",
     "evalue": "[WinError 32] The process cannot access the file because it is being used by another process: 'dsa3.txt'",
     "output_type": "error",
     "traceback": [
      "\u001b[1;31m---------------------------------------------------------------------------\u001b[0m",
      "\u001b[1;31mPermissionError\u001b[0m                           Traceback (most recent call last)",
      "Cell \u001b[1;32mIn[10], line 2\u001b[0m\n\u001b[0;32m      1\u001b[0m \u001b[38;5;28;01mimport\u001b[39;00m \u001b[38;5;21;01mos\u001b[39;00m\n\u001b[1;32m----> 2\u001b[0m \u001b[43mos\u001b[49m\u001b[38;5;241;43m.\u001b[39;49m\u001b[43mremove\u001b[49m\u001b[43m(\u001b[49m\u001b[38;5;124;43m\"\u001b[39;49m\u001b[38;5;124;43mdsa3.txt\u001b[39;49m\u001b[38;5;124;43m\"\u001b[39;49m\u001b[43m)\u001b[49m\n",
      "\u001b[1;31mPermissionError\u001b[0m: [WinError 32] The process cannot access the file because it is being used by another process: 'dsa3.txt'"
     ]
    }
   ],
   "source": [
    "import os\n",
    "os.remove(\"dsa3.txt\")"
   ]
  },
  {
   "cell_type": "code",
   "execution_count": 8,
   "metadata": {},
   "outputs": [
    {
     "ename": "SyntaxError",
     "evalue": "invalid syntax (249073307.py, line 1)",
     "output_type": "error",
     "traceback": [
      "\u001b[1;36m  Cell \u001b[1;32mIn[8], line 1\u001b[1;36m\u001b[0m\n\u001b[1;33m    def max_of_three(1, 2, 7):\u001b[0m\n\u001b[1;37m                     ^\u001b[0m\n\u001b[1;31mSyntaxError\u001b[0m\u001b[1;31m:\u001b[0m invalid syntax\n"
     ]
    }
   ],
   "source": [
    "\n",
    "def max_of_three(1, 2, 7):\n",
    "    return max(1, 2, 7)\n",
    "\n",
    "def test_max_of_three():\n",
    "    assert max_of_three(3, 7, 5) == 7, \n",
    "    assert max_of_three(10, 10, 5) == 10,\n",
    "    print(\"\")\n"
   ]
  },
  {
   "cell_type": "code",
   "execution_count": 12,
   "metadata": {},
   "outputs": [
    {
     "ename": "TypeError",
     "evalue": "max_of_three() missing 3 required positional arguments: 'a', 'b', and 'c'",
     "output_type": "error",
     "traceback": [
      "\u001b[1;31m---------------------------------------------------------------------------\u001b[0m",
      "\u001b[1;31mTypeError\u001b[0m                                 Traceback (most recent call last)",
      "Cell \u001b[1;32mIn[12], line 6\u001b[0m\n\u001b[0;32m      3\u001b[0m     \u001b[38;5;28;01massert\u001b[39;00m max_of_three(\u001b[38;5;241m5\u001b[39m, \u001b[38;5;241m10\u001b[39m, \u001b[38;5;241m10\u001b[39m) \u001b[38;5;241m==\u001b[39m \u001b[38;5;241m10\u001b[39m \n\u001b[0;32m      4\u001b[0m     \u001b[38;5;28mprint\u001b[39m(\u001b[38;5;124m\"\u001b[39m\u001b[38;5;124mKAIRO\u001b[39m\u001b[38;5;124m\"\u001b[39m)\n\u001b[1;32m----> 6\u001b[0m \u001b[43mtest_max_of_three\u001b[49m\u001b[43m(\u001b[49m\u001b[43m)\u001b[49m\n",
      "Cell \u001b[1;32mIn[12], line 2\u001b[0m, in \u001b[0;36mtest_max_of_three\u001b[1;34m()\u001b[0m\n\u001b[0;32m      1\u001b[0m \u001b[38;5;28;01mdef\u001b[39;00m \u001b[38;5;21mtest_max_of_three\u001b[39m():\n\u001b[1;32m----> 2\u001b[0m     \u001b[38;5;28;01massert\u001b[39;00m \u001b[43mmax_of_three\u001b[49m\u001b[43m(\u001b[49m\u001b[38;5;241;43m3\u001b[39;49m\u001b[43m,\u001b[49m\u001b[43m \u001b[49m\u001b[38;5;241;43m5\u001b[39;49m\u001b[43m \u001b[49m\u001b[43m,\u001b[49m\u001b[38;5;241;43m7\u001b[39;49m\u001b[43m \u001b[49m\u001b[43m)\u001b[49m \u001b[38;5;241m==\u001b[39m \u001b[38;5;241m7\u001b[39m\n\u001b[0;32m      3\u001b[0m     \u001b[38;5;28;01massert\u001b[39;00m max_of_three(\u001b[38;5;241m5\u001b[39m, \u001b[38;5;241m10\u001b[39m, \u001b[38;5;241m10\u001b[39m) \u001b[38;5;241m==\u001b[39m \u001b[38;5;241m10\u001b[39m \n\u001b[0;32m      4\u001b[0m     \u001b[38;5;28mprint\u001b[39m(\u001b[38;5;124m\"\u001b[39m\u001b[38;5;124mKAIRO\u001b[39m\u001b[38;5;124m\"\u001b[39m)\n",
      "Cell \u001b[1;32mIn[9], line 2\u001b[0m, in \u001b[0;36mmax_of_three\u001b[1;34m(a, b, c)\u001b[0m\n\u001b[0;32m      1\u001b[0m \u001b[38;5;28;01mdef\u001b[39;00m \u001b[38;5;21mmax_of_three\u001b[39m(a, b, c):\n\u001b[1;32m----> 2\u001b[0m     \u001b[38;5;28;01mreturn\u001b[39;00m \u001b[43mmax_of_three\u001b[49m\u001b[43m(\u001b[49m\u001b[43m)\u001b[49m\n",
      "\u001b[1;31mTypeError\u001b[0m: max_of_three() missing 3 required positional arguments: 'a', 'b', and 'c'"
     ]
    }
   ],
   "source": [
    "\n",
    "\n",
    "\n",
    "def test_max_of_three():\n",
    "    assert max_of_three(3, 5 ,7 ) == 7,\n",
    "    assert max_of_three(5, 10, 10) == 10,\n",
    "    print(\"KAIRO\")\n",
    "\n",
    "test_max_of_three()"
   ]
  },
  {
   "cell_type": "code",
   "execution_count": 17,
   "metadata": {},
   "outputs": [
    {
     "ename": "SyntaxError",
     "evalue": "invalid syntax (436350572.py, line 2)",
     "output_type": "error",
     "traceback": [
      "\u001b[1;36m  Cell \u001b[1;32mIn[17], line 2\u001b[1;36m\u001b[0m\n\u001b[1;33m    assert max_of_three(3, 7, 5) == 7,\u001b[0m\n\u001b[1;37m                                       ^\u001b[0m\n\u001b[1;31mSyntaxError\u001b[0m\u001b[1;31m:\u001b[0m invalid syntax\n"
     ]
    }
   ],
   "source": [
    "\n",
    "\n",
    "def test_max_of_three():\n",
    "    assert max_of_three(3, 7, 5) == 7, \n",
    "    assert max_of_three(10, 10, 5) == 10, \n",
    "    print(\"KAIRO\")\n",
    "\n",
    "\n"
   ]
  },
  {
   "cell_type": "code",
   "execution_count": 21,
   "metadata": {},
   "outputs": [
    {
     "name": "stdout",
     "output_type": "stream",
     "text": [
      "KAIRO\n"
     ]
    }
   ],
   "source": [
    "\n",
    "\n",
    "def test_max_of_three():\n",
    "    assert max_of_three(3, 7, 5) == 7\n",
    "    assert max_of_three(10, 10, 5) == 10\n",
    "    print(\"KAIRO\")\n",
    "\n",
    "# Run the test function\n",
    "test_max_of_three()\n"
   ]
  },
  {
   "cell_type": "code",
   "execution_count": 27,
   "metadata": {},
   "outputs": [
    {
     "name": "stdout",
     "output_type": "stream",
     "text": [
      "PAUL\n"
     ]
    }
   ],
   "source": [
    "\n",
    "def is_palindrome(s):\n",
    "    \n",
    "    \n",
    "    normalized_str = ''.join(s.split()).lower()\n",
    "    return normalized_str == normalized_str[::-1]\n",
    "\n",
    "def test_is_palindrome():\n",
    "    \n",
    "    assert is_palindrome(\"racecar\") == True\n",
    "    assert is_palindrome(\"hello\") == False\n",
    "    print(\"PAUL\")\n",
    "\n",
    "if __name__ == \"__main__\":\n",
    "    test_is_palindrome()\n"
   ]
  },
  {
   "cell_type": "code",
   "execution_count": 4,
   "metadata": {},
   "outputs": [
    {
     "name": "stdout",
     "output_type": "stream",
     "text": [
      "Data written to students.txt successfully.\n",
      "Error reading the file: too many values to unpack (expected 3)\n"
     ]
    }
   ],
   "source": [
    "\n",
    "\n",
    "def create_and_write_data():\n",
    "    \n",
    "    students = [\"Christian Eriksen,31 , 92,\",  \n",
    "        \"Bryan Mbuemo,32 , 76,\",\n",
    "        \"Harry Wilson, 33, 45,\",\n",
    "        \"Sadio Salah,34 , 59,\",\n",
    "        \"Harry Erling, 35, 88,\"]\n",
    "    \n",
    "    \n",
    "    try: \n",
    "        with open('students.txt', 'w') as file:\n",
    "            \n",
    "            for student in students:\n",
    "                file.write(student + '\\n')\n",
    "        print(\"Data written to students.txt successfully.\")\n",
    "    except Exception as e:\n",
    "        print(f\"Error writing to file: {e}\")\n",
    "\n",
    "def read_and_process_data():\n",
    "    \"\"\"Read the student data, calculate average marks, and add remarks.\"\"\"\n",
    "    try:\n",
    "        with open('students.txt', 'r') as file:\n",
    "            students = file.readlines()\n",
    "        # List to store updated student data\n",
    "        updated_students = []   \n",
    "        total_marks = 0\n",
    "        num_students = len(students)\n",
    "        remarks_count = {'Distinction': 0, 'Merit': 0, 'Pass': 0, 'Fail': 0}\n",
    "        \n",
    "        for student in students:\n",
    "            # Split the student data by comma and strip extra spaces\n",
    "            name, roll_number, marks = student.strip().split(',')\n",
    "            marks = int(marks)\n",
    "            total_marks += marks\n",
    "            \n",
    "            \n",
    "            if marks >= 85:\n",
    "                remark = 'Distinction'\n",
    "                remarks_count['Distinction'] += 1\n",
    "            elif 70 <= marks < 85:\n",
    "                remark = 'Merit'\n",
    "                remarks_count['Merit'] += 1\n",
    "            elif 50 <= marks < 70:\n",
    "                remark = 'Pass'\n",
    "                remarks_count['Pass'] += 1\n",
    "            else:\n",
    "                remark = 'Fail'\n",
    "                remarks_count['Fail'] += 1\n",
    "            \n",
    "            # Append the updated student's record to the list\n",
    "            updated_students.append(f\"{name}, {roll_number}, {marks}, {remark}\")\n",
    "        \n",
    "        # Calculation of average marks\n",
    "        average_marks = total_marks / num_students if num_students else 0\n",
    "        \n",
    "        print(\"\\nProcessed student details:\")\n",
    "        for student in updated_students:\n",
    "            print(student)\n",
    "        \n",
    "        return updated_students, remarks_count, average_marks\n",
    "    \n",
    "    except Exception as e:\n",
    "        print(f\"Error reading the file: {e}\")\n",
    "        return [], {}, 0\n",
    "\n",
    "def update_file_with_remarks(updated_students):\n",
    "    \"\"\"Update the 'students.txt' file with the remarks.\"\"\"\n",
    "    try:\n",
    "        with open('students.txt', 'w') as file:\n",
    "            for student in updated_students:\n",
    "                file.write(student + '\\n')\n",
    "        print(\"\\nFile updated with remarks successfully.\")\n",
    "    except Exception as e:\n",
    "        print(f\"Error updating the file: {e}\")\n",
    "\n",
    "def write_summary(remarks_count, average_marks):\n",
    "    \"\"\"Write the summary of student performance to 'summary.txt'.\"\"\"\n",
    "    try:\n",
    "        with open('summary.txt', 'w') as file:\n",
    "            file.write(f\"Total Number of Students: {sum(remarks_count.values())}\\n\")\n",
    "            file.write(f\"Distinction: {remarks_count['Distinction']}\\n\")\n",
    "            file.write(f\"Merit: {remarks_count['Merit']}\\n\")\n",
    "            file.write(f\"Pass: {remarks_count['Pass']}\\n\")\n",
    "            file.write(f\"Fail: {remarks_count['Fail']}\\n\")\n",
    "            file.write(f\"Average Marks: {average_marks:.2f}\\n\")\n",
    "        \n",
    "        print(\"\\nSummary written to summary.txt successfully.\")\n",
    "    except Exception as e:\n",
    "        print(f\"Error writing summary file: {e}\")\n",
    "\n",
    "def main():\n",
    "    \"\"\"Main function to execute all tasks.\"\"\"\n",
    "     # Create and write student data to the file\n",
    "    create_and_write_data()\n",
    "    \n",
    "    #  Read and process the student data\n",
    "    updated_students, remarks_count, average_marks = read_and_process_data()\n",
    "    \n",
    "    if updated_students:\n",
    "        # Update the students.txt file with remarks\n",
    "        update_file_with_remarks(updated_students)\n",
    "        \n",
    "        #  Write the summary to 'summary.txt'\n",
    "        write_summary(remarks_count, average_marks)\n",
    "\n",
    "\n",
    "if __name__ == '__main__':\n",
    "    main()\n"
   ]
  },
  {
   "cell_type": "code",
   "execution_count": 1,
   "metadata": {},
   "outputs": [
    {
     "name": "stdout",
     "output_type": "stream",
     "text": [
      "Data written to students.txt successfully.\n",
      "\n",
      "Processed student details:\n",
      "Bran Mbuemo,  11, 76, Merit\n",
      "Janet Muriuki,  12, 45, Fail\n",
      "LeBron Jack,  13, 92, Distinction\n",
      "Emile Rowe,  14, 88, Distinction\n",
      "Michael Myers,  15, 59, Pass\n",
      "\n",
      "File updated with remarks successfully.\n",
      "\n",
      "Summary written to summary.txt successfully.\n"
     ]
    }
   ],
   "source": [
    "\n",
    "\n",
    "\n",
    "def create_and_write_data():\n",
    "    \n",
    "    students = [\n",
    "        \"Bran Mbuemo, 11, 76\",  \n",
    "        \"Janet Muriuki, 12, 45\",\n",
    "        \"LeBron Jack, 13, 92\",\n",
    "        \"Emile Rowe, 14, 88\",\n",
    "        \"Michael Myers, 15, 59\"\n",
    "    ]\n",
    "    \n",
    "    try:\n",
    "        with open('students.txt', 'w') as file:\n",
    "            \n",
    "            for student in students:\n",
    "                file.write(student + '\\n')\n",
    "        print(\"Data written to students.txt successfully.\")\n",
    "    except Exception as e:\n",
    "        print(f\"Error writing to file: {e}\")\n",
    "\n",
    "def read_and_process_data():\n",
    "   \n",
    "    try:\n",
    "        with open('students.txt', 'r') as file:\n",
    "            students = file.readlines()\n",
    "        \n",
    "        updated_students = []  # a list that stores updated student data\n",
    "        total_marks = 0\n",
    "        num_students = len(students)\n",
    "        remarks_count = {'Distinction': 0, 'Merit': 0, 'Pass': 0, 'Fail': 0}\n",
    "        \n",
    "        for student in students:\n",
    "            # Split the student data by comma and strip extra spaces\n",
    "            name, roll_number, marks = student.strip().split(',')\n",
    "            marks = int(marks)\n",
    "            total_marks += marks\n",
    "            \n",
    "            # Determine the remark based on marks gotten by the students\n",
    "            if marks >= 85:\n",
    "                remark = 'Distinction'\n",
    "                remarks_count['Distinction'] += 1\n",
    "            elif 70 <= marks < 85:\n",
    "                remark = 'Merit'\n",
    "                remarks_count['Merit'] += 1\n",
    "            elif 50 <= marks < 70:\n",
    "                remark = 'Pass'\n",
    "                remarks_count['Pass'] += 1\n",
    "            else:\n",
    "                remark = 'Fail'\n",
    "                remarks_count['Fail'] += 1\n",
    "            \n",
    "            # Append updated student record to the list\n",
    "            updated_students.append(f\"{name}, {roll_number}, {marks}, {remark}\")\n",
    "        \n",
    "        # Calculation of average marks\n",
    "        average_marks = total_marks / num_students if num_students else 0\n",
    "        \n",
    "        print(\"\\nProcessed student details:\")\n",
    "        for student in updated_students:\n",
    "            print(student)\n",
    "        \n",
    "        return updated_students, remarks_count, average_marks\n",
    "    \n",
    "    except Exception as e:\n",
    "        print(f\"Error reading the file: {e}\")\n",
    "        return [], {}, 0\n",
    "\n",
    "def update_file_with_remarks(updated_students):\n",
    "    \n",
    "    try:\n",
    "        with open('students.txt', 'w') as file:\n",
    "            for student in updated_students:\n",
    "                file.write(student + '\\n')\n",
    "        print(\"\\nFile updated with remarks successfully.\")\n",
    "    except Exception as e:\n",
    "        print(f\"Error updating the file: {e}\")\n",
    "\n",
    "def write_summary(remarks_count, average_marks):\n",
    "\n",
    "    try:\n",
    "        with open('summary.txt', 'w') as file:\n",
    "            file.write(f\"Total Number of Students: {sum(remarks_count.values())}\\n\")\n",
    "            file.write(f\"Distinction: {remarks_count['Distinction']}\\n\")\n",
    "            file.write(f\"Merit: {remarks_count['Merit']}\\n\")\n",
    "            file.write(f\"Pass: {remarks_count['Pass']}\\n\")\n",
    "            file.write(f\"Fail: {remarks_count['Fail']}\\n\")\n",
    "            file.write(f\"Average Marks: {average_marks:.2f}\\n\")\n",
    "        \n",
    "        print(\"\\nSummary written to summary.txt successfully.\")\n",
    "    except Exception as e:\n",
    "        print(f\"Error writing summary file: {e}\")\n",
    "\n",
    "def main():\n",
    "    \n",
    "    #  Create and write student data to the file\n",
    "    create_and_write_data()\n",
    "    \n",
    "    #  Read and process the student data\n",
    "    updated_students, remarks_count, average_marks = read_and_process_data()\n",
    "    \n",
    "    if updated_students:\n",
    "        #  Update the students.txt file with remarks\n",
    "        update_file_with_remarks(updated_students)\n",
    "        \n",
    "        # Write the summary to 'summary.txt'\n",
    "        write_summary(remarks_count, average_marks)\n",
    "\n",
    "\n",
    "if __name__ == '__main__':\n",
    "    main()\n"
   ]
  },
  {
   "cell_type": "code",
   "execution_count": 16,
   "metadata": {},
   "outputs": [
    {
     "ename": "FileNotFoundError",
     "evalue": "[Errno 2] No such file or directory: 'dsa13.csv'",
     "output_type": "error",
     "traceback": [
      "\u001b[1;31m---------------------------------------------------------------------------\u001b[0m",
      "\u001b[1;31mFileNotFoundError\u001b[0m                         Traceback (most recent call last)",
      "Cell \u001b[1;32mIn[16], line 2\u001b[0m\n\u001b[0;32m      1\u001b[0m \u001b[38;5;28;01mimport\u001b[39;00m \u001b[38;5;21;01mcsv\u001b[39;00m\n\u001b[1;32m----> 2\u001b[0m f \u001b[38;5;241m=\u001b[39m \u001b[38;5;28;43mopen\u001b[39;49m\u001b[43m(\u001b[49m\u001b[38;5;124;43m'\u001b[39;49m\u001b[38;5;124;43mdsa13.csv\u001b[39;49m\u001b[38;5;124;43m'\u001b[39;49m\u001b[43m)\u001b[49m\n\u001b[0;32m      3\u001b[0m csv_f\u001b[38;5;241m=\u001b[39mcsv\u001b[38;5;241m.\u001b[39mreader(f)\n\u001b[0;32m      4\u001b[0m \u001b[38;5;28;01mfor\u001b[39;00m row \u001b[38;5;129;01min\u001b[39;00m csv_f:\n",
      "File \u001b[1;32m~\\AppData\\Roaming\\Python\\Python312\\site-packages\\IPython\\core\\interactiveshell.py:324\u001b[0m, in \u001b[0;36m_modified_open\u001b[1;34m(file, *args, **kwargs)\u001b[0m\n\u001b[0;32m    317\u001b[0m \u001b[38;5;28;01mif\u001b[39;00m file \u001b[38;5;129;01min\u001b[39;00m {\u001b[38;5;241m0\u001b[39m, \u001b[38;5;241m1\u001b[39m, \u001b[38;5;241m2\u001b[39m}:\n\u001b[0;32m    318\u001b[0m     \u001b[38;5;28;01mraise\u001b[39;00m \u001b[38;5;167;01mValueError\u001b[39;00m(\n\u001b[0;32m    319\u001b[0m         \u001b[38;5;124mf\u001b[39m\u001b[38;5;124m\"\u001b[39m\u001b[38;5;124mIPython won\u001b[39m\u001b[38;5;124m'\u001b[39m\u001b[38;5;124mt let you open fd=\u001b[39m\u001b[38;5;132;01m{\u001b[39;00mfile\u001b[38;5;132;01m}\u001b[39;00m\u001b[38;5;124m by default \u001b[39m\u001b[38;5;124m\"\u001b[39m\n\u001b[0;32m    320\u001b[0m         \u001b[38;5;124m\"\u001b[39m\u001b[38;5;124mas it is likely to crash IPython. If you know what you are doing, \u001b[39m\u001b[38;5;124m\"\u001b[39m\n\u001b[0;32m    321\u001b[0m         \u001b[38;5;124m\"\u001b[39m\u001b[38;5;124myou can use builtins\u001b[39m\u001b[38;5;124m'\u001b[39m\u001b[38;5;124m open.\u001b[39m\u001b[38;5;124m\"\u001b[39m\n\u001b[0;32m    322\u001b[0m     )\n\u001b[1;32m--> 324\u001b[0m \u001b[38;5;28;01mreturn\u001b[39;00m \u001b[43mio_open\u001b[49m\u001b[43m(\u001b[49m\u001b[43mfile\u001b[49m\u001b[43m,\u001b[49m\u001b[43m \u001b[49m\u001b[38;5;241;43m*\u001b[39;49m\u001b[43margs\u001b[49m\u001b[43m,\u001b[49m\u001b[43m \u001b[49m\u001b[38;5;241;43m*\u001b[39;49m\u001b[38;5;241;43m*\u001b[39;49m\u001b[43mkwargs\u001b[49m\u001b[43m)\u001b[49m\n",
      "\u001b[1;31mFileNotFoundError\u001b[0m: [Errno 2] No such file or directory: 'dsa13.csv'"
     ]
    }
   ],
   "source": [
    "import csv\n",
    "f = open('dsa13.csv')\n",
    "csv_f=csv.reader(f)\n",
    "for row in csv_f:\n",
    " print(row[2])\n"
   ]
  },
  {
   "cell_type": "code",
   "execution_count": 2,
   "metadata": {},
   "outputs": [
    {
     "data": {
      "text/plain": [
       "0        hope\n",
       "1    patience\n",
       "dtype: object"
      ]
     },
     "execution_count": 2,
     "metadata": {},
     "output_type": "execute_result"
    }
   ],
   "source": [
    "import pandas as pd\n",
    "\n",
    "\n",
    "names=['hope','patience']\n",
    "pd.Series(names)"
   ]
  },
  {
   "cell_type": "code",
   "execution_count": 14,
   "metadata": {},
   "outputs": [
    {
     "data": {
      "text/plain": [
       "student_1    monika\n",
       "student_2     lalit\n",
       "dtype: object"
      ]
     },
     "execution_count": 14,
     "metadata": {},
     "output_type": "execute_result"
    }
   ],
   "source": [
    "import pandas as pd\n",
    "names = ['monika','lalit']\n",
    "pd.Series(names,index=['student_1','student_2'])"
   ]
  },
  {
   "cell_type": "code",
   "execution_count": 4,
   "metadata": {},
   "outputs": [
    {
     "ename": "TypeError",
     "evalue": "'set' type is unordered",
     "output_type": "error",
     "traceback": [
      "\u001b[1;31m---------------------------------------------------------------------------\u001b[0m",
      "\u001b[1;31mTypeError\u001b[0m                                 Traceback (most recent call last)",
      "Cell \u001b[1;32mIn[4], line 2\u001b[0m\n\u001b[0;32m      1\u001b[0m books \u001b[38;5;241m=\u001b[39m {\u001b[38;5;124m'\u001b[39m\u001b[38;5;124mscience\u001b[39m\u001b[38;5;124m'\u001b[39m,\u001b[38;5;124m'\u001b[39m\u001b[38;5;124mram\u001b[39m\u001b[38;5;124m'\u001b[39m,\u001b[38;5;124m'\u001b[39m\u001b[38;5;124mmaths\u001b[39m\u001b[38;5;124m'\u001b[39m}\n\u001b[1;32m----> 2\u001b[0m \u001b[43mpd\u001b[49m\u001b[38;5;241;43m.\u001b[39;49m\u001b[43mSeries\u001b[49m\u001b[43m(\u001b[49m\u001b[43mbooks\u001b[49m\u001b[43m)\u001b[49m\n",
      "File \u001b[1;32m~\\AppData\\Roaming\\Python\\Python312\\site-packages\\pandas\\core\\series.py:584\u001b[0m, in \u001b[0;36mSeries.__init__\u001b[1;34m(self, data, index, dtype, name, copy, fastpath)\u001b[0m\n\u001b[0;32m    582\u001b[0m         data \u001b[38;5;241m=\u001b[39m data\u001b[38;5;241m.\u001b[39mcopy()\n\u001b[0;32m    583\u001b[0m \u001b[38;5;28;01melse\u001b[39;00m:\n\u001b[1;32m--> 584\u001b[0m     data \u001b[38;5;241m=\u001b[39m \u001b[43msanitize_array\u001b[49m\u001b[43m(\u001b[49m\u001b[43mdata\u001b[49m\u001b[43m,\u001b[49m\u001b[43m \u001b[49m\u001b[43mindex\u001b[49m\u001b[43m,\u001b[49m\u001b[43m \u001b[49m\u001b[43mdtype\u001b[49m\u001b[43m,\u001b[49m\u001b[43m \u001b[49m\u001b[43mcopy\u001b[49m\u001b[43m)\u001b[49m\n\u001b[0;32m    586\u001b[0m     manager \u001b[38;5;241m=\u001b[39m _get_option(\u001b[38;5;124m\"\u001b[39m\u001b[38;5;124mmode.data_manager\u001b[39m\u001b[38;5;124m\"\u001b[39m, silent\u001b[38;5;241m=\u001b[39m\u001b[38;5;28;01mTrue\u001b[39;00m)\n\u001b[0;32m    587\u001b[0m     \u001b[38;5;28;01mif\u001b[39;00m manager \u001b[38;5;241m==\u001b[39m \u001b[38;5;124m\"\u001b[39m\u001b[38;5;124mblock\u001b[39m\u001b[38;5;124m\"\u001b[39m:\n",
      "File \u001b[1;32m~\\AppData\\Roaming\\Python\\Python312\\site-packages\\pandas\\core\\construction.py:642\u001b[0m, in \u001b[0;36msanitize_array\u001b[1;34m(data, index, dtype, copy, allow_2d)\u001b[0m\n\u001b[0;32m    633\u001b[0m     \u001b[38;5;28;01mreturn\u001b[39;00m sanitize_array(\n\u001b[0;32m    634\u001b[0m         data,\n\u001b[0;32m    635\u001b[0m         index\u001b[38;5;241m=\u001b[39mindex,\n\u001b[1;32m   (...)\u001b[0m\n\u001b[0;32m    638\u001b[0m         allow_2d\u001b[38;5;241m=\u001b[39mallow_2d,\n\u001b[0;32m    639\u001b[0m     )\n\u001b[0;32m    641\u001b[0m \u001b[38;5;28;01melse\u001b[39;00m:\n\u001b[1;32m--> 642\u001b[0m     \u001b[43m_sanitize_non_ordered\u001b[49m\u001b[43m(\u001b[49m\u001b[43mdata\u001b[49m\u001b[43m)\u001b[49m\n\u001b[0;32m    643\u001b[0m     \u001b[38;5;66;03m# materialize e.g. generators, convert e.g. tuples, abc.ValueView\u001b[39;00m\n\u001b[0;32m    644\u001b[0m     data \u001b[38;5;241m=\u001b[39m \u001b[38;5;28mlist\u001b[39m(data)\n",
      "File \u001b[1;32m~\\AppData\\Roaming\\Python\\Python312\\site-packages\\pandas\\core\\construction.py:693\u001b[0m, in \u001b[0;36m_sanitize_non_ordered\u001b[1;34m(data)\u001b[0m\n\u001b[0;32m    689\u001b[0m \u001b[38;5;250m\u001b[39m\u001b[38;5;124;03m\"\"\"\u001b[39;00m\n\u001b[0;32m    690\u001b[0m \u001b[38;5;124;03mRaise only for unordered sets, e.g., not for dict_keys\u001b[39;00m\n\u001b[0;32m    691\u001b[0m \u001b[38;5;124;03m\"\"\"\u001b[39;00m\n\u001b[0;32m    692\u001b[0m \u001b[38;5;28;01mif\u001b[39;00m \u001b[38;5;28misinstance\u001b[39m(data, (\u001b[38;5;28mset\u001b[39m, \u001b[38;5;28mfrozenset\u001b[39m)):\n\u001b[1;32m--> 693\u001b[0m     \u001b[38;5;28;01mraise\u001b[39;00m \u001b[38;5;167;01mTypeError\u001b[39;00m(\u001b[38;5;124mf\u001b[39m\u001b[38;5;124m\"\u001b[39m\u001b[38;5;124m'\u001b[39m\u001b[38;5;132;01m{\u001b[39;00m\u001b[38;5;28mtype\u001b[39m(data)\u001b[38;5;241m.\u001b[39m\u001b[38;5;18m__name__\u001b[39m\u001b[38;5;132;01m}\u001b[39;00m\u001b[38;5;124m'\u001b[39m\u001b[38;5;124m type is unordered\u001b[39m\u001b[38;5;124m\"\u001b[39m)\n",
      "\u001b[1;31mTypeError\u001b[0m: 'set' type is unordered"
     ]
    }
   ],
   "source": [
    "books = {'science','ram','maths'}\n",
    "pd.Series(books)"
   ]
  },
  {
   "cell_type": "code",
   "execution_count": 11,
   "metadata": {},
   "outputs": [
    {
     "ename": "AttributeError",
     "evalue": "module 'pandas' has no attribute 'series'",
     "output_type": "error",
     "traceback": [
      "\u001b[1;31m---------------------------------------------------------------------------\u001b[0m",
      "\u001b[1;31mAttributeError\u001b[0m                            Traceback (most recent call last)",
      "Cell \u001b[1;32mIn[11], line 3\u001b[0m\n\u001b[0;32m      1\u001b[0m \u001b[38;5;28;01mimport\u001b[39;00m \u001b[38;5;21;01mpandas\u001b[39;00m \u001b[38;5;28;01mas\u001b[39;00m \u001b[38;5;21;01mpd\u001b[39;00m\n\u001b[0;32m      2\u001b[0m books \u001b[38;5;241m=\u001b[39m {\u001b[38;5;124m'\u001b[39m\u001b[38;5;124mscience\u001b[39m\u001b[38;5;124m'\u001b[39m:\u001b[38;5;124m'\u001b[39m\u001b[38;5;124mram\u001b[39m\u001b[38;5;124m'\u001b[39m,\u001b[38;5;124m'\u001b[39m\u001b[38;5;124mmaths\u001b[39m\u001b[38;5;124m'\u001b[39m:\u001b[38;5;124m'\u001b[39m\u001b[38;5;124mgoel\u001b[39m\u001b[38;5;124m'\u001b[39m}\n\u001b[1;32m----> 3\u001b[0m s\u001b[38;5;241m=\u001b[39m\u001b[43mpd\u001b[49m\u001b[38;5;241;43m.\u001b[39;49m\u001b[43mseries\u001b[49m(books)\n\u001b[0;32m      4\u001b[0m s\u001b[38;5;241m.\u001b[39mindex\n",
      "\u001b[1;31mAttributeError\u001b[0m: module 'pandas' has no attribute 'series'"
     ]
    }
   ],
   "source": [
    "import pandas as pd\n",
    "books = {'science':'ram','maths':'goel'}\n",
    "s=pd.series(books)\n",
    "s.index"
   ]
  },
  {
   "cell_type": "code",
   "execution_count": 7,
   "metadata": {},
   "outputs": [
    {
     "data": {
      "text/plain": [
       "False"
      ]
     },
     "execution_count": 7,
     "metadata": {},
     "output_type": "execute_result"
    }
   ],
   "source": [
    "import numpy as np\n",
    "np.nan==None\n",
    "False"
   ]
  },
  {
   "cell_type": "code",
   "execution_count": 9,
   "metadata": {},
   "outputs": [
    {
     "ename": "AttributeError",
     "evalue": "module 'pandas' has no attribute 'series'",
     "output_type": "error",
     "traceback": [
      "\u001b[1;31m---------------------------------------------------------------------------\u001b[0m",
      "\u001b[1;31mAttributeError\u001b[0m                            Traceback (most recent call last)",
      "Cell \u001b[1;32mIn[9], line 3\u001b[0m\n\u001b[0;32m      1\u001b[0m \u001b[38;5;28;01mimport\u001b[39;00m \u001b[38;5;21;01mpandas\u001b[39;00m \u001b[38;5;28;01mas\u001b[39;00m \u001b[38;5;21;01mpd\u001b[39;00m\n\u001b[0;32m      2\u001b[0m names \u001b[38;5;241m=\u001b[39m [\u001b[38;5;124m'\u001b[39m\u001b[38;5;124mMonika\u001b[39m\u001b[38;5;124m'\u001b[39m,\u001b[38;5;124m'\u001b[39m\u001b[38;5;124mlalit\u001b[39m\u001b[38;5;124m'\u001b[39m,\u001b[38;5;124m'\u001b[39m\u001b[38;5;124mPurva\u001b[39m\u001b[38;5;124m'\u001b[39m]\n\u001b[1;32m----> 3\u001b[0m s\u001b[38;5;241m=\u001b[39m\u001b[43mpd\u001b[49m\u001b[38;5;241;43m.\u001b[39;49m\u001b[43mseries\u001b[49m(names,index\u001b[38;5;241m=\u001b[39m[\u001b[38;5;124m'\u001b[39m\u001b[38;5;124mStudent_1\u001b[39m\u001b[38;5;124m'\u001b[39m,\u001b[38;5;124m'\u001b[39m\u001b[38;5;124mStudent_2\u001b[39m\u001b[38;5;124m'\u001b[39m,\u001b[38;5;124m'\u001b[39m\u001b[38;5;124mStudent_3\u001b[39m\u001b[38;5;124m'\u001b[39m])\n\u001b[0;32m      4\u001b[0m s\u001b[38;5;241m.\u001b[39miloc[\u001b[38;5;241m2\u001b[39m]\n\u001b[0;32m      5\u001b[0m \u001b[38;5;124m'\u001b[39m\u001b[38;5;124mPurva\u001b[39m\u001b[38;5;124m'\u001b[39m\n",
      "\u001b[1;31mAttributeError\u001b[0m: module 'pandas' has no attribute 'series'"
     ]
    }
   ],
   "source": [
    "import pandas as pd\n",
    "names = ['Monika','lalit','Purva']\n",
    "s=pd.series(names,index=['Student_1','Student_2','Student_3'])\n",
    "s.iloc[2]\n",
    "'Purva'\n",
    "s.loc['Student_2']\n",
    "'lalit'\n",
    "    #iloc- query data using numeric value\n",
    "    #loc- query about the label"
   ]
  },
  {
   "cell_type": "code",
   "execution_count": 8,
   "metadata": {},
   "outputs": [
    {
     "data": {
      "text/plain": [
       "DatetimeIndex(['2013-01-01', '2013-01-02', '2013-01-03', '2013-01-04',\n",
       "               '2013-01-05', '2013-01-06'],\n",
       "              dtype='datetime64[ns]', freq='D')"
      ]
     },
     "execution_count": 8,
     "metadata": {},
     "output_type": "execute_result"
    }
   ],
   "source": [
    "import pandas as pd\n",
    "dates = pd.date_range('20130101',periods=6)\n",
    "dates"
   ]
  },
  {
   "cell_type": "code",
   "execution_count": 8,
   "metadata": {},
   "outputs": [
    {
     "data": {
      "text/html": [
       "<div>\n",
       "<style scoped>\n",
       "    .dataframe tbody tr th:only-of-type {\n",
       "        vertical-align: middle;\n",
       "    }\n",
       "\n",
       "    .dataframe tbody tr th {\n",
       "        vertical-align: top;\n",
       "    }\n",
       "\n",
       "    .dataframe thead th {\n",
       "        text-align: right;\n",
       "    }\n",
       "</style>\n",
       "<table border=\"1\" class=\"dataframe\">\n",
       "  <thead>\n",
       "    <tr style=\"text-align: right;\">\n",
       "      <th></th>\n",
       "      <th>A</th>\n",
       "      <th>B</th>\n",
       "      <th>C</th>\n",
       "      <th>D</th>\n",
       "    </tr>\n",
       "  </thead>\n",
       "  <tbody>\n",
       "    <tr>\n",
       "      <th>2013-01-01</th>\n",
       "      <td>-0.998319</td>\n",
       "      <td>-0.075341</td>\n",
       "      <td>-0.410135</td>\n",
       "      <td>0.340846</td>\n",
       "    </tr>\n",
       "    <tr>\n",
       "      <th>2013-01-02</th>\n",
       "      <td>-0.202243</td>\n",
       "      <td>-0.112120</td>\n",
       "      <td>-1.279702</td>\n",
       "      <td>-0.245319</td>\n",
       "    </tr>\n",
       "    <tr>\n",
       "      <th>2013-01-03</th>\n",
       "      <td>-0.955658</td>\n",
       "      <td>0.127729</td>\n",
       "      <td>-0.994106</td>\n",
       "      <td>-0.785217</td>\n",
       "    </tr>\n",
       "    <tr>\n",
       "      <th>2013-01-04</th>\n",
       "      <td>-0.297781</td>\n",
       "      <td>0.331527</td>\n",
       "      <td>0.376938</td>\n",
       "      <td>0.075800</td>\n",
       "    </tr>\n",
       "    <tr>\n",
       "      <th>2013-01-05</th>\n",
       "      <td>2.067340</td>\n",
       "      <td>1.741482</td>\n",
       "      <td>-2.007209</td>\n",
       "      <td>0.378268</td>\n",
       "    </tr>\n",
       "    <tr>\n",
       "      <th>2013-01-06</th>\n",
       "      <td>-0.482182</td>\n",
       "      <td>-0.220047</td>\n",
       "      <td>0.568051</td>\n",
       "      <td>-1.873507</td>\n",
       "    </tr>\n",
       "  </tbody>\n",
       "</table>\n",
       "</div>"
      ],
      "text/plain": [
       "                   A         B         C         D\n",
       "2013-01-01 -0.998319 -0.075341 -0.410135  0.340846\n",
       "2013-01-02 -0.202243 -0.112120 -1.279702 -0.245319\n",
       "2013-01-03 -0.955658  0.127729 -0.994106 -0.785217\n",
       "2013-01-04 -0.297781  0.331527  0.376938  0.075800\n",
       "2013-01-05  2.067340  1.741482 -2.007209  0.378268\n",
       "2013-01-06 -0.482182 -0.220047  0.568051 -1.873507"
      ]
     },
     "execution_count": 8,
     "metadata": {},
     "output_type": "execute_result"
    }
   ],
   "source": [
    "import pandas as pd\n",
    "df = pd.DataFrame(np.random.randn(6,4), index=dates,columns=list('ABCD'))\n",
    "df"
   ]
  }
 ],
 "metadata": {
  "kernelspec": {
   "display_name": "Python 3",
   "language": "python",
   "name": "python3"
  },
  "language_info": {
   "codemirror_mode": {
    "name": "ipython",
    "version": 3
   },
   "file_extension": ".py",
   "mimetype": "text/x-python",
   "name": "python",
   "nbconvert_exporter": "python",
   "pygments_lexer": "ipython3",
   "version": "3.12.4"
  }
 },
 "nbformat": 4,
 "nbformat_minor": 2
}
